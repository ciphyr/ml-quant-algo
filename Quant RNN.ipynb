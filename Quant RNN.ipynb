{
 "cells": [
  {
   "cell_type": "markdown",
   "metadata": {},
   "source": [
    "# Quantiative Algorithm using Technical Indicators\n",
    "\n",
    "Technical data obtained from TradingView\n",
    " "
   ]
  },
  {
   "cell_type": "markdown",
   "metadata": {},
   "source": [
    "## The Data"
   ]
  },
  {
   "cell_type": "code",
   "execution_count": 1,
   "metadata": {
    "collapsed": true
   },
   "outputs": [],
   "source": [
    "import pandas as pd\n",
    "import numpy as np"
   ]
  },
  {
   "cell_type": "code",
   "execution_count": 2,
   "metadata": {
    "collapsed": true
   },
   "outputs": [],
   "source": [
    "stock_data = pd.read_csv('SPY Original.csv')\n",
    "stock_data = stock_data.drop('timestamp', axis=1)\n",
    "stock_data = stock_data.replace(to_replace='None', value=np.nan).dropna()\n",
    "stock_data = stock_data.astype(float)"
   ]
  },
  {
   "cell_type": "code",
   "execution_count": 3,
   "metadata": {
    "collapsed": true,
    "scrolled": true
   },
   "outputs": [],
   "source": [
    "x_data = stock_data.drop(['%'],axis=1)\n",
    "y_val = stock_data['%']"
   ]
  },
  {
   "cell_type": "code",
   "execution_count": 4,
   "metadata": {
    "collapsed": true
   },
   "outputs": [],
   "source": [
    "from sklearn.model_selection import train_test_split\n",
    "X_train, X_test, y_train, y_test = train_test_split(x_data,y_val,test_size=0.3, shuffle=False)"
   ]
  },
  {
   "cell_type": "markdown",
   "metadata": {},
   "source": [
    "### Scale the Data"
   ]
  },
  {
   "cell_type": "code",
   "execution_count": 5,
   "metadata": {},
   "outputs": [
    {
     "data": {
      "text/plain": [
       "MinMaxScaler(copy=True, feature_range=(0, 1))"
      ]
     },
     "execution_count": 5,
     "metadata": {},
     "output_type": "execute_result"
    }
   ],
   "source": [
    "from sklearn.preprocessing import MinMaxScaler\n",
    "scaler = MinMaxScaler()\n",
    "scaler.fit(X_train)"
   ]
  },
  {
   "cell_type": "code",
   "execution_count": 6,
   "metadata": {
    "collapsed": true
   },
   "outputs": [],
   "source": [
    "X_train = pd.DataFrame(data=scaler.transform(X_train),columns = X_train.columns,index=X_train.index)\n",
    "X_test = pd.DataFrame(data=scaler.transform(X_test),columns = X_test.columns,index=X_test.index)"
   ]
  },
  {
   "cell_type": "code",
   "execution_count": 7,
   "metadata": {},
   "outputs": [
    {
     "data": {
      "text/html": [
       "<div>\n",
       "<style>\n",
       "    .dataframe thead tr:only-child th {\n",
       "        text-align: right;\n",
       "    }\n",
       "\n",
       "    .dataframe thead th {\n",
       "        text-align: left;\n",
       "    }\n",
       "\n",
       "    .dataframe tbody tr th {\n",
       "        vertical-align: top;\n",
       "    }\n",
       "</style>\n",
       "<table border=\"1\" class=\"dataframe\">\n",
       "  <thead>\n",
       "    <tr style=\"text-align: right;\">\n",
       "      <th></th>\n",
       "      <th>open</th>\n",
       "      <th>high</th>\n",
       "      <th>low</th>\n",
       "      <th>close</th>\n",
       "      <th>vol</th>\n",
       "      <th>vol_20d_MA</th>\n",
       "      <th>BB_1</th>\n",
       "      <th>BB_2</th>\n",
       "      <th>BB_3</th>\n",
       "      <th>Ichimoku _1</th>\n",
       "      <th>...</th>\n",
       "      <th>OBV</th>\n",
       "      <th>ADX</th>\n",
       "      <th>MACD_1</th>\n",
       "      <th>MACD_2</th>\n",
       "      <th>MACD_3</th>\n",
       "      <th>Stoch_RSI_1</th>\n",
       "      <th>Stoch_RSI_2</th>\n",
       "      <th>Klinger_Oscillator_1</th>\n",
       "      <th>Klinger_Oscillator_2</th>\n",
       "      <th>CMF</th>\n",
       "    </tr>\n",
       "  </thead>\n",
       "  <tbody>\n",
       "    <tr>\n",
       "      <th>66</th>\n",
       "      <td>0.009904</td>\n",
       "      <td>0.006333</td>\n",
       "      <td>0.010039</td>\n",
       "      <td>0.006107</td>\n",
       "      <td>0.000119</td>\n",
       "      <td>0.000095</td>\n",
       "      <td>0.001777</td>\n",
       "      <td>0.004166</td>\n",
       "      <td>0.000547</td>\n",
       "      <td>0.0</td>\n",
       "      <td>...</td>\n",
       "      <td>0.199090</td>\n",
       "      <td>0.338495</td>\n",
       "      <td>0.608831</td>\n",
       "      <td>0.687297</td>\n",
       "      <td>0.700713</td>\n",
       "      <td>0.919842</td>\n",
       "      <td>0.776481</td>\n",
       "      <td>0.580295</td>\n",
       "      <td>0.515759</td>\n",
       "      <td>0.442423</td>\n",
       "    </tr>\n",
       "    <tr>\n",
       "      <th>67</th>\n",
       "      <td>0.010455</td>\n",
       "      <td>0.004681</td>\n",
       "      <td>0.009481</td>\n",
       "      <td>0.004719</td>\n",
       "      <td>0.000057</td>\n",
       "      <td>0.000098</td>\n",
       "      <td>0.001820</td>\n",
       "      <td>0.004212</td>\n",
       "      <td>0.000586</td>\n",
       "      <td>0.0</td>\n",
       "      <td>...</td>\n",
       "      <td>0.199085</td>\n",
       "      <td>0.327429</td>\n",
       "      <td>0.610870</td>\n",
       "      <td>0.689399</td>\n",
       "      <td>0.702162</td>\n",
       "      <td>0.937505</td>\n",
       "      <td>0.877542</td>\n",
       "      <td>0.580279</td>\n",
       "      <td>0.515774</td>\n",
       "      <td>0.418237</td>\n",
       "    </tr>\n",
       "  </tbody>\n",
       "</table>\n",
       "<p>2 rows × 25 columns</p>\n",
       "</div>"
      ],
      "text/plain": [
       "        open      high       low     close       vol  vol_20d_MA      BB_1  \\\n",
       "66  0.009904  0.006333  0.010039  0.006107  0.000119    0.000095  0.001777   \n",
       "67  0.010455  0.004681  0.009481  0.004719  0.000057    0.000098  0.001820   \n",
       "\n",
       "        BB_2      BB_3  Ichimoku _1    ...          OBV       ADX    MACD_1  \\\n",
       "66  0.004166  0.000547          0.0    ...     0.199090  0.338495  0.608831   \n",
       "67  0.004212  0.000586          0.0    ...     0.199085  0.327429  0.610870   \n",
       "\n",
       "      MACD_2    MACD_3  Stoch_RSI_1  Stoch_RSI_2  Klinger_Oscillator_1  \\\n",
       "66  0.687297  0.700713     0.919842     0.776481              0.580295   \n",
       "67  0.689399  0.702162     0.937505     0.877542              0.580279   \n",
       "\n",
       "    Klinger_Oscillator_2       CMF  \n",
       "66              0.515759  0.442423  \n",
       "67              0.515774  0.418237  \n",
       "\n",
       "[2 rows x 25 columns]"
      ]
     },
     "execution_count": 7,
     "metadata": {},
     "output_type": "execute_result"
    }
   ],
   "source": [
    "X_train.head(2)"
   ]
  },
  {
   "cell_type": "markdown",
   "metadata": {},
   "source": [
    "## Keras Modeling"
   ]
  },
  {
   "cell_type": "code",
   "execution_count": 8,
   "metadata": {},
   "outputs": [
    {
     "name": "stderr",
     "output_type": "stream",
     "text": [
      "Using TensorFlow backend.\n"
     ]
    }
   ],
   "source": [
    "from keras.layers import concatenate, LSTM, Flatten, Input, Dense, Conv2D, Flatten, Conv1D, GlobalAveragePooling1D, MaxPooling1D\n",
    "from keras.models import Model\n",
    "from keras.utils import plot_model"
   ]
  },
  {
   "cell_type": "code",
   "execution_count": 9,
   "metadata": {},
   "outputs": [],
   "source": [
    "#Global Setup\n",
    "time_period = len(X_train)"
   ]
  },
  {
   "cell_type": "code",
   "execution_count": 10,
   "metadata": {},
   "outputs": [],
   "source": [
    "#Note: Output Shape is (Input Height - Filter Height + 1 (if strides=1))\n",
    "\n",
    "#Trend Indicators\n",
    "\n",
    "#MACD Setup\n",
    "macd_df = pd.concat([X_train['MACD_1'], X_train['MACD_2'], X_train['MACD_3']], axis=1)\n",
    "macd_outputs = len(macd_df.columns)\n",
    "#Ichimoku Setup\n",
    "ichimoku_df = pd.concat([X_train['Ichimoku _1'], X_train['Ichimoku_2'], X_train['Ichimoku_3'], X_train['Ichimoku_4'], X_train['Ichimoku_5']], axis=1)\n",
    "ichimoku_outputs = len(ichimoku_df.columns)\n",
    "#SAR Setup\n",
    "sar_df = pd.concat([X_train['SAR']], axis=1)\n",
    "sar_outputs = len(sar_df.columns)\n",
    "\n",
    "#MACD\n",
    "#Conv1D Shape [# Filters, Filter Height]\n",
    "visible_macd = Input(shape=(time_period,macd_outputs))\n",
    "conv_macd = Conv1D(100, 5, name='3MACD_Conv', activation='relu')(visible_macd)\n",
    "pool_macd = MaxPooling1D(3)(conv_macd)\n",
    "flat_macd = Flatten()(pool_macd)\n",
    "\n",
    "#Ichimoku\n",
    "#Conv1D Shape [# Filters, Filter Height]\n",
    "visible_ichimoku = Input(shape=(time_period,ichimoku_outputs))\n",
    "conv_ichimoku = Conv1D(100, 5, name='5Ichimoku_Conv', activation='relu')(visible_ichimoku)\n",
    "pool_ichimoku = MaxPooling1D(3)(conv_ichimoku)\n",
    "flat_ichimoku = Flatten()(pool_ichimoku)\n",
    "\n",
    "#SAR\n",
    "#Conv1D Shape [# Filters, Filter Height]\n",
    "visible_sar = Input(shape=(time_period,sar_outputs))\n",
    "pool_sar = MaxPooling1D(3)(visible_sar)\n",
    "flat_sar = Flatten()(pool_sar)\n",
    "\n",
    "#All Trend Indicators\n",
    "merge_trend = concatenate([flat_macd, flat_ichimoku, flat_sar])\n",
    "dense_trend = Dense(100, activation='relu')(merge_trend)"
   ]
  },
  {
   "cell_type": "code",
   "execution_count": 11,
   "metadata": {},
   "outputs": [],
   "source": [
    "#Volatility Indicators\n",
    "\n",
    "#Bollinger Bands\n",
    "bollinger_df = pd.concat([X_train['BB_1'], X_train['BB_2'], X_train['BB_3']], axis=1)\n",
    "bollinger_outputs = len(bollinger_df.columns)\n",
    "\n",
    "#Conv1D Shape [# Filters, Filter Height]\n",
    "visible_bollinger = Input(shape=(time_period,bollinger_outputs))\n",
    "conv_bollinger = Conv1D(100, 5, name='3Bollinger_Conv', activation='relu')(visible_bollinger)\n",
    "pool_bollinger = MaxPooling1D(3)(conv_bollinger)\n",
    "flat_bollinger = Flatten()(pool_bollinger)\n",
    "\n",
    "#All Volatility Indicators\n",
    "# merge_volatility = concatenate([flat_bollinger])\n",
    "dense_volatility = Dense(100, activation='relu')(flat_bollinger)"
   ]
  },
  {
   "cell_type": "code",
   "execution_count": 12,
   "metadata": {},
   "outputs": [],
   "source": [
    "#Momentum Indicators\n",
    "\n",
    "#stochRSI Setup\n",
    "stochRSI_df = pd.concat([X_train['Stoch_RSI_1'], X_train['Stoch_RSI_2']], axis=1)\n",
    "stochRSI_outputs = len(stochRSI_df.columns)\n",
    "#adx Setup\n",
    "adx_df = pd.concat([X_train['ADX']], axis=1)\n",
    "adx_outputs = len(adx_df.columns)\n",
    "\n",
    "#stochRSI\n",
    "#Conv1D Shape [# Filters, Filter Height]\n",
    "visible_stochRSI = Input(shape=(time_period,stochRSI_outputs))\n",
    "conv_stochRSI = Conv1D(100, 5, name='2StochRSI_Conv', activation='relu')(visible_stochRSI)\n",
    "pool_stochRSI = MaxPooling1D(3)(conv_stochRSI)\n",
    "flat_stochRSI = Flatten()(pool_stochRSI)\n",
    "\n",
    "#adx\n",
    "#Conv1D Shape [# Filters, Filter Height]\n",
    "visible_adx = Input(shape=(time_period,adx_outputs))\n",
    "pool_adx = MaxPooling1D(3)(visible_adx)\n",
    "flat_adx = Flatten()(pool_adx)\n",
    "\n",
    "#All Momentum Indicators\n",
    "merge_momentum = concatenate([flat_stochRSI, flat_adx])\n",
    "dense_momentum = Dense(100, activation='relu')(merge_momentum)"
   ]
  },
  {
   "cell_type": "code",
   "execution_count": 13,
   "metadata": {},
   "outputs": [],
   "source": [
    "#Volume Indicators\n",
    "\n",
    "#KlingerVol Setup\n",
    "klingerVol_df = pd.concat([X_train['Klinger_Oscillator_1'], X_train['Klinger_Oscillator_2']], axis=1)\n",
    "klingerVol_outputs = len(klingerVol_df.columns)\n",
    "#OBV Setup\n",
    "obv_df = pd.concat([X_train['OBV']], axis=1)\n",
    "obv_outputs = len(obv_df.columns)\n",
    "#CMF Setup\n",
    "cmf_df = pd.concat([X_train['CMF']], axis=1)\n",
    "cmf_outputs = len(cmf_df.columns)\n",
    "\n",
    "#KlingerVol\n",
    "#Conv1D Shape [# Filters, Filter Height]\n",
    "visible_klingerVol = Input(shape=(time_period,klingerVol_outputs))\n",
    "conv_klingerVol = Conv1D(100, 5, name='2KlingerVol_Conv', activation='relu')(visible_klingerVol)\n",
    "pool_klingerVol = MaxPooling1D(3)(conv_klingerVol)\n",
    "flat_klingerVol = Flatten()(pool_klingerVol)\n",
    "\n",
    "#OBV\n",
    "#Conv1D Shape [# Filters, Filter Height]\n",
    "visible_obv = Input(shape=(time_period,obv_outputs))\n",
    "pool_obv = MaxPooling1D(3)(visible_obv)\n",
    "flat_obv = Flatten()(pool_obv)\n",
    "\n",
    "#CMF\n",
    "#Conv1D Shape [# Filters, Filter Height]\n",
    "visible_cmf = Input(shape=(time_period,cmf_outputs))\n",
    "pool_cmf = MaxPooling1D(3)(visible_cmf)\n",
    "flat_cmf = Flatten()(pool_cmf)\n",
    "\n",
    "#All Volume Indicators\n",
    "merge_volume = concatenate([flat_klingerVol, flat_obv, flat_cmf])\n",
    "dense_volume = Dense(100, activation='relu')(merge_volume)"
   ]
  },
  {
   "cell_type": "code",
   "execution_count": 15,
   "metadata": {
    "scrolled": true
   },
   "outputs": [
    {
     "name": "stdout",
     "output_type": "stream",
     "text": [
      "__________________________________________________________________________________________________\n",
      "Layer (type)                    Output Shape         Param #     Connected to                     \n",
      "==================================================================================================\n",
      "input_1 (InputLayer)            (None, 4564, 3)      0                                            \n",
      "__________________________________________________________________________________________________\n",
      "input_2 (InputLayer)            (None, 4564, 5)      0                                            \n",
      "__________________________________________________________________________________________________\n",
      "input_5 (InputLayer)            (None, 4564, 2)      0                                            \n",
      "__________________________________________________________________________________________________\n",
      "input_7 (InputLayer)            (None, 4564, 2)      0                                            \n",
      "__________________________________________________________________________________________________\n",
      "3MACD_Conv (Conv1D)             (None, 4560, 100)    1600        input_1[0][0]                    \n",
      "__________________________________________________________________________________________________\n",
      "5Ichimoku_Conv (Conv1D)         (None, 4560, 100)    2600        input_2[0][0]                    \n",
      "__________________________________________________________________________________________________\n",
      "input_3 (InputLayer)            (None, 4564, 1)      0                                            \n",
      "__________________________________________________________________________________________________\n",
      "input_4 (InputLayer)            (None, 4564, 3)      0                                            \n",
      "__________________________________________________________________________________________________\n",
      "2StochRSI_Conv (Conv1D)         (None, 4560, 100)    1100        input_5[0][0]                    \n",
      "__________________________________________________________________________________________________\n",
      "input_6 (InputLayer)            (None, 4564, 1)      0                                            \n",
      "__________________________________________________________________________________________________\n",
      "2KlingerVol_Conv (Conv1D)       (None, 4560, 100)    1100        input_7[0][0]                    \n",
      "__________________________________________________________________________________________________\n",
      "input_8 (InputLayer)            (None, 4564, 1)      0                                            \n",
      "__________________________________________________________________________________________________\n",
      "input_9 (InputLayer)            (None, 4564, 1)      0                                            \n",
      "__________________________________________________________________________________________________\n",
      "max_pooling1d_1 (MaxPooling1D)  (None, 1520, 100)    0           3MACD_Conv[0][0]                 \n",
      "__________________________________________________________________________________________________\n",
      "max_pooling1d_2 (MaxPooling1D)  (None, 1520, 100)    0           5Ichimoku_Conv[0][0]             \n",
      "__________________________________________________________________________________________________\n",
      "max_pooling1d_3 (MaxPooling1D)  (None, 1521, 1)      0           input_3[0][0]                    \n",
      "__________________________________________________________________________________________________\n",
      "3Bollinger_Conv (Conv1D)        (None, 4560, 100)    1600        input_4[0][0]                    \n",
      "__________________________________________________________________________________________________\n",
      "max_pooling1d_5 (MaxPooling1D)  (None, 1520, 100)    0           2StochRSI_Conv[0][0]             \n",
      "__________________________________________________________________________________________________\n",
      "max_pooling1d_6 (MaxPooling1D)  (None, 1521, 1)      0           input_6[0][0]                    \n",
      "__________________________________________________________________________________________________\n",
      "max_pooling1d_7 (MaxPooling1D)  (None, 1520, 100)    0           2KlingerVol_Conv[0][0]           \n",
      "__________________________________________________________________________________________________\n",
      "max_pooling1d_8 (MaxPooling1D)  (None, 1521, 1)      0           input_8[0][0]                    \n",
      "__________________________________________________________________________________________________\n",
      "max_pooling1d_9 (MaxPooling1D)  (None, 1521, 1)      0           input_9[0][0]                    \n",
      "__________________________________________________________________________________________________\n",
      "flatten_1 (Flatten)             (None, 152000)       0           max_pooling1d_1[0][0]            \n",
      "__________________________________________________________________________________________________\n",
      "flatten_2 (Flatten)             (None, 152000)       0           max_pooling1d_2[0][0]            \n",
      "__________________________________________________________________________________________________\n",
      "flatten_3 (Flatten)             (None, 1521)         0           max_pooling1d_3[0][0]            \n",
      "__________________________________________________________________________________________________\n",
      "max_pooling1d_4 (MaxPooling1D)  (None, 1520, 100)    0           3Bollinger_Conv[0][0]            \n",
      "__________________________________________________________________________________________________\n",
      "flatten_5 (Flatten)             (None, 152000)       0           max_pooling1d_5[0][0]            \n",
      "__________________________________________________________________________________________________\n",
      "flatten_6 (Flatten)             (None, 1521)         0           max_pooling1d_6[0][0]            \n",
      "__________________________________________________________________________________________________\n",
      "flatten_7 (Flatten)             (None, 152000)       0           max_pooling1d_7[0][0]            \n",
      "__________________________________________________________________________________________________\n",
      "flatten_8 (Flatten)             (None, 1521)         0           max_pooling1d_8[0][0]            \n",
      "__________________________________________________________________________________________________\n",
      "flatten_9 (Flatten)             (None, 1521)         0           max_pooling1d_9[0][0]            \n",
      "__________________________________________________________________________________________________\n",
      "concatenate_1 (Concatenate)     (None, 305521)       0           flatten_1[0][0]                  \n",
      "                                                                 flatten_2[0][0]                  \n",
      "                                                                 flatten_3[0][0]                  \n",
      "__________________________________________________________________________________________________\n",
      "flatten_4 (Flatten)             (None, 152000)       0           max_pooling1d_4[0][0]            \n",
      "__________________________________________________________________________________________________\n",
      "concatenate_2 (Concatenate)     (None, 153521)       0           flatten_5[0][0]                  \n",
      "                                                                 flatten_6[0][0]                  \n",
      "__________________________________________________________________________________________________\n",
      "concatenate_3 (Concatenate)     (None, 155042)       0           flatten_7[0][0]                  \n",
      "                                                                 flatten_8[0][0]                  \n",
      "                                                                 flatten_9[0][0]                  \n",
      "__________________________________________________________________________________________________\n",
      "dense_1 (Dense)                 (None, 100)          30552200    concatenate_1[0][0]              \n",
      "__________________________________________________________________________________________________\n",
      "dense_2 (Dense)                 (None, 100)          15200100    flatten_4[0][0]                  \n",
      "__________________________________________________________________________________________________\n",
      "dense_3 (Dense)                 (None, 100)          15352200    concatenate_2[0][0]              \n",
      "__________________________________________________________________________________________________\n",
      "dense_4 (Dense)                 (None, 100)          15504300    concatenate_3[0][0]              \n",
      "__________________________________________________________________________________________________\n",
      "concatenate_5 (Concatenate)     (None, 400)          0           dense_1[0][0]                    \n",
      "                                                                 dense_2[0][0]                    \n",
      "                                                                 dense_3[0][0]                    \n",
      "                                                                 dense_4[0][0]                    \n",
      "__________________________________________________________________________________________________\n",
      "dense_6 (Dense)                 (None, 100)          40100       concatenate_5[0][0]              \n",
      "==================================================================================================\n",
      "Total params: 76,656,900\n",
      "Trainable params: 76,656,900\n",
      "Non-trainable params: 0\n",
      "__________________________________________________________________________________________________\n",
      "None\n"
     ]
    }
   ],
   "source": [
    "#All Indicators\n",
    "merge_all = concatenate([dense_trend, dense_volatility, dense_momentum, dense_volume])\n",
    "#Final Output\n",
    "output = Dense(100, activation='relu')(merge_all)\n",
    "#Create Model\n",
    "visibles_list = [visible_macd, visible_ichimoku, visible_sar, visible_bollinger, visible_stochRSI, visible_adx, visible_klingerVol, visible_obv, visible_cmf]\n",
    "model = Model(inputs=visibles_list, outputs=output)\n",
    "#Print Model Text Summary\n",
    "print(model.summary())\n",
    "#Save Model Graph\n",
    "plot_model(model, to_file='./model.png', show_shapes=True)"
   ]
  },
  {
   "cell_type": "code",
   "execution_count": 28,
   "metadata": {},
   "outputs": [
    {
     "data": {
      "text/plain": [
       "(1, 4564, 3)"
      ]
     },
     "execution_count": 28,
     "metadata": {},
     "output_type": "execute_result"
    }
   ],
   "source": [
    "X_input_list = [macd_df.values, ichimoku_df.values, sar_df.values, bollinger_df.values, stochRSI_df.values, adx_df.values, klingerVol_df.values, obv_df.values, cmf_df.values]\n",
    "\n",
    "for i in X_input_list:\n",
    "    i = i.reshape([-1,time_period,i.shape[1]])\n",
    "    \n",
    "value = macd_df.values\n",
    "value = value.reshape([-1,time_period, 3])\n",
    "value.shape"
   ]
  },
  {
   "cell_type": "code",
   "execution_count": 17,
   "metadata": {},
   "outputs": [
    {
     "ename": "ValueError",
     "evalue": "Error when checking input: expected input_1 to have 3 dimensions, but got array with shape (4564, 3)",
     "output_type": "error",
     "traceback": [
      "\u001b[0;31m---------------------------------------------------------------------------\u001b[0m",
      "\u001b[0;31mValueError\u001b[0m                                Traceback (most recent call last)",
      "\u001b[0;32m<ipython-input-17-e1768b45e959>\u001b[0m in \u001b[0;36m<module>\u001b[0;34m()\u001b[0m\n\u001b[1;32m      4\u001b[0m \u001b[0mmodel\u001b[0m\u001b[0;34m.\u001b[0m\u001b[0mcompile\u001b[0m\u001b[0;34m(\u001b[0m\u001b[0mloss\u001b[0m\u001b[0;34m=\u001b[0m\u001b[0;34m'mean_squared_error'\u001b[0m\u001b[0;34m,\u001b[0m \u001b[0moptimizer\u001b[0m\u001b[0;34m=\u001b[0m\u001b[0;34m'adam'\u001b[0m\u001b[0;34m)\u001b[0m\u001b[0;34m\u001b[0m\u001b[0m\n\u001b[1;32m      5\u001b[0m \u001b[0;34m\u001b[0m\u001b[0m\n\u001b[0;32m----> 6\u001b[0;31m \u001b[0mmodel\u001b[0m\u001b[0;34m.\u001b[0m\u001b[0mfit\u001b[0m\u001b[0;34m(\u001b[0m\u001b[0mx\u001b[0m\u001b[0;34m=\u001b[0m\u001b[0mX_input_list\u001b[0m\u001b[0;34m,\u001b[0m \u001b[0my\u001b[0m\u001b[0;34m=\u001b[0m\u001b[0my_train\u001b[0m\u001b[0;34m,\u001b[0m \u001b[0mepochs\u001b[0m\u001b[0;34m=\u001b[0m\u001b[0;36m100\u001b[0m\u001b[0;34m,\u001b[0m \u001b[0mbatch_size\u001b[0m\u001b[0;34m=\u001b[0m\u001b[0;36m1\u001b[0m\u001b[0;34m,\u001b[0m \u001b[0mverbose\u001b[0m\u001b[0;34m=\u001b[0m\u001b[0;36m2\u001b[0m\u001b[0;34m)\u001b[0m\u001b[0;34m\u001b[0m\u001b[0m\n\u001b[0m",
      "\u001b[0;32m~/anaconda3/envs/tfdeeplearning/lib/python3.5/site-packages/keras/engine/training.py\u001b[0m in \u001b[0;36mfit\u001b[0;34m(self, x, y, batch_size, epochs, verbose, callbacks, validation_split, validation_data, shuffle, class_weight, sample_weight, initial_epoch, steps_per_epoch, validation_steps, **kwargs)\u001b[0m\n\u001b[1;32m   1579\u001b[0m             \u001b[0mclass_weight\u001b[0m\u001b[0;34m=\u001b[0m\u001b[0mclass_weight\u001b[0m\u001b[0;34m,\u001b[0m\u001b[0;34m\u001b[0m\u001b[0m\n\u001b[1;32m   1580\u001b[0m             \u001b[0mcheck_batch_axis\u001b[0m\u001b[0;34m=\u001b[0m\u001b[0;32mFalse\u001b[0m\u001b[0;34m,\u001b[0m\u001b[0;34m\u001b[0m\u001b[0m\n\u001b[0;32m-> 1581\u001b[0;31m             batch_size=batch_size)\n\u001b[0m\u001b[1;32m   1582\u001b[0m         \u001b[0;31m# Prepare validation data.\u001b[0m\u001b[0;34m\u001b[0m\u001b[0;34m\u001b[0m\u001b[0m\n\u001b[1;32m   1583\u001b[0m         \u001b[0mdo_validation\u001b[0m \u001b[0;34m=\u001b[0m \u001b[0;32mFalse\u001b[0m\u001b[0;34m\u001b[0m\u001b[0m\n",
      "\u001b[0;32m~/anaconda3/envs/tfdeeplearning/lib/python3.5/site-packages/keras/engine/training.py\u001b[0m in \u001b[0;36m_standardize_user_data\u001b[0;34m(self, x, y, sample_weight, class_weight, check_batch_axis, batch_size)\u001b[0m\n\u001b[1;32m   1412\u001b[0m                                     \u001b[0mself\u001b[0m\u001b[0;34m.\u001b[0m\u001b[0m_feed_input_shapes\u001b[0m\u001b[0;34m,\u001b[0m\u001b[0;34m\u001b[0m\u001b[0m\n\u001b[1;32m   1413\u001b[0m                                     \u001b[0mcheck_batch_axis\u001b[0m\u001b[0;34m=\u001b[0m\u001b[0;32mFalse\u001b[0m\u001b[0;34m,\u001b[0m\u001b[0;34m\u001b[0m\u001b[0m\n\u001b[0;32m-> 1414\u001b[0;31m                                     exception_prefix='input')\n\u001b[0m\u001b[1;32m   1415\u001b[0m         y = _standardize_input_data(y, self._feed_output_names,\n\u001b[1;32m   1416\u001b[0m                                     \u001b[0moutput_shapes\u001b[0m\u001b[0;34m,\u001b[0m\u001b[0;34m\u001b[0m\u001b[0m\n",
      "\u001b[0;32m~/anaconda3/envs/tfdeeplearning/lib/python3.5/site-packages/keras/engine/training.py\u001b[0m in \u001b[0;36m_standardize_input_data\u001b[0;34m(data, names, shapes, check_batch_axis, exception_prefix)\u001b[0m\n\u001b[1;32m    139\u001b[0m                                  \u001b[0;34m' to have '\u001b[0m \u001b[0;34m+\u001b[0m \u001b[0mstr\u001b[0m\u001b[0;34m(\u001b[0m\u001b[0mlen\u001b[0m\u001b[0;34m(\u001b[0m\u001b[0mshapes\u001b[0m\u001b[0;34m[\u001b[0m\u001b[0mi\u001b[0m\u001b[0;34m]\u001b[0m\u001b[0;34m)\u001b[0m\u001b[0;34m)\u001b[0m \u001b[0;34m+\u001b[0m\u001b[0;34m\u001b[0m\u001b[0m\n\u001b[1;32m    140\u001b[0m                                  \u001b[0;34m' dimensions, but got array with shape '\u001b[0m \u001b[0;34m+\u001b[0m\u001b[0;34m\u001b[0m\u001b[0m\n\u001b[0;32m--> 141\u001b[0;31m                                  str(array.shape))\n\u001b[0m\u001b[1;32m    142\u001b[0m             \u001b[0;32mfor\u001b[0m \u001b[0mj\u001b[0m\u001b[0;34m,\u001b[0m \u001b[0;34m(\u001b[0m\u001b[0mdim\u001b[0m\u001b[0;34m,\u001b[0m \u001b[0mref_dim\u001b[0m\u001b[0;34m)\u001b[0m \u001b[0;32min\u001b[0m \u001b[0menumerate\u001b[0m\u001b[0;34m(\u001b[0m\u001b[0mzip\u001b[0m\u001b[0;34m(\u001b[0m\u001b[0marray\u001b[0m\u001b[0;34m.\u001b[0m\u001b[0mshape\u001b[0m\u001b[0;34m,\u001b[0m \u001b[0mshapes\u001b[0m\u001b[0;34m[\u001b[0m\u001b[0mi\u001b[0m\u001b[0;34m]\u001b[0m\u001b[0;34m)\u001b[0m\u001b[0;34m)\u001b[0m\u001b[0;34m:\u001b[0m\u001b[0;34m\u001b[0m\u001b[0m\n\u001b[1;32m    143\u001b[0m                 \u001b[0;32mif\u001b[0m \u001b[0;32mnot\u001b[0m \u001b[0mj\u001b[0m \u001b[0;32mand\u001b[0m \u001b[0;32mnot\u001b[0m \u001b[0mcheck_batch_axis\u001b[0m\u001b[0;34m:\u001b[0m\u001b[0;34m\u001b[0m\u001b[0m\n",
      "\u001b[0;31mValueError\u001b[0m: Error when checking input: expected input_1 to have 3 dimensions, but got array with shape (4564, 3)"
     ]
    }
   ],
   "source": [
    "from sklearn.metrics import mean_squared_error\n",
    "\n",
    "#Model Creation & Usage\n",
    "model.compile(loss='mean_squared_error', optimizer='adam')\n",
    "\n",
    "model.fit(x=X_input_list, y=y_train, epochs=100, batch_size=1, verbose=2)"
   ]
  },
  {
   "cell_type": "markdown",
   "metadata": {},
   "source": [
    "# We Did It?"
   ]
  }
 ],
 "metadata": {
  "kernelspec": {
   "display_name": "Python [conda env:tfdeeplearning]",
   "language": "python",
   "name": "conda-env-tfdeeplearning-py"
  },
  "language_info": {
   "codemirror_mode": {
    "name": "ipython",
    "version": 3
   },
   "file_extension": ".py",
   "mimetype": "text/x-python",
   "name": "python",
   "nbconvert_exporter": "python",
   "pygments_lexer": "ipython3",
   "version": "3.5.4"
  }
 },
 "nbformat": 4,
 "nbformat_minor": 2
}
