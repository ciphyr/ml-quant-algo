{
 "cells": [
  {
   "cell_type": "markdown",
   "metadata": {},
   "source": [
    "# Quantiative Algorithm using Technical Indicators\n",
    "\n",
    "Technical data obtained from TradingView\n",
    "\n",
    "ToDo:\n",
    "\n",
    "Add LSTM Layers\n",
    "\n",
    "Fit & Train Model\n",
    "\n",
    "Test Model\n",
    "\n",
    "Optimize"
   ]
  },
  {
   "cell_type": "markdown",
   "metadata": {},
   "source": [
    "## The Data"
   ]
  },
  {
   "cell_type": "code",
   "execution_count": 56,
   "metadata": {
    "collapsed": true
   },
   "outputs": [],
   "source": [
    "import pandas as pd\n",
    "import numpy as np"
   ]
  },
  {
   "cell_type": "code",
   "execution_count": 57,
   "metadata": {
    "collapsed": true
   },
   "outputs": [],
   "source": [
    "stock_data = pd.read_csv('SPY Original.csv')\n",
    "stock_data = stock_data.drop('timestamp', axis=1)\n",
    "stock_data = stock_data.replace(to_replace='None', value=np.nan).dropna()\n",
    "stock_data = stock_data.astype(float)"
   ]
  },
  {
   "cell_type": "code",
   "execution_count": 58,
   "metadata": {
    "collapsed": true,
    "scrolled": true
   },
   "outputs": [],
   "source": [
    "x_data = stock_data.drop(['%'],axis=1)\n",
    "y_val = stock_data['%']"
   ]
  },
  {
   "cell_type": "code",
   "execution_count": 59,
   "metadata": {
    "collapsed": true
   },
   "outputs": [],
   "source": [
    "from sklearn.model_selection import train_test_split\n",
    "X_train, X_test, y_train, y_test = train_test_split(x_data,y_val,test_size=0.3, shuffle=False)"
   ]
  },
  {
   "cell_type": "markdown",
   "metadata": {},
   "source": [
    "### Scale the Data"
   ]
  },
  {
   "cell_type": "code",
   "execution_count": 60,
   "metadata": {},
   "outputs": [
    {
     "data": {
      "text/plain": [
       "MinMaxScaler(copy=True, feature_range=(0, 1))"
      ]
     },
     "execution_count": 60,
     "metadata": {},
     "output_type": "execute_result"
    }
   ],
   "source": [
    "from sklearn.preprocessing import MinMaxScaler\n",
    "scaler = MinMaxScaler()\n",
    "scaler.fit(X_train)"
   ]
  },
  {
   "cell_type": "code",
   "execution_count": 61,
   "metadata": {
    "collapsed": true
   },
   "outputs": [],
   "source": [
    "X_train = pd.DataFrame(data=scaler.transform(X_train),columns = X_train.columns,index=X_train.index)\n",
    "X_test = pd.DataFrame(data=scaler.transform(X_test),columns = X_test.columns,index=X_test.index)"
   ]
  },
  {
   "cell_type": "code",
   "execution_count": 62,
   "metadata": {
    "scrolled": true
   },
   "outputs": [
    {
     "data": {
      "text/html": [
       "<div>\n",
       "<style>\n",
       "    .dataframe thead tr:only-child th {\n",
       "        text-align: right;\n",
       "    }\n",
       "\n",
       "    .dataframe thead th {\n",
       "        text-align: left;\n",
       "    }\n",
       "\n",
       "    .dataframe tbody tr th {\n",
       "        vertical-align: top;\n",
       "    }\n",
       "</style>\n",
       "<table border=\"1\" class=\"dataframe\">\n",
       "  <thead>\n",
       "    <tr style=\"text-align: right;\">\n",
       "      <th></th>\n",
       "      <th>open</th>\n",
       "      <th>high</th>\n",
       "      <th>low</th>\n",
       "      <th>close</th>\n",
       "      <th>vol</th>\n",
       "      <th>vol_20d_MA</th>\n",
       "      <th>BB_1</th>\n",
       "      <th>BB_2</th>\n",
       "      <th>BB_3</th>\n",
       "      <th>Ichimoku _1</th>\n",
       "      <th>...</th>\n",
       "      <th>OBV</th>\n",
       "      <th>ADX</th>\n",
       "      <th>MACD_1</th>\n",
       "      <th>MACD_2</th>\n",
       "      <th>MACD_3</th>\n",
       "      <th>Stoch_RSI_1</th>\n",
       "      <th>Stoch_RSI_2</th>\n",
       "      <th>Klinger_Oscillator_1</th>\n",
       "      <th>Klinger_Oscillator_2</th>\n",
       "      <th>CMF</th>\n",
       "    </tr>\n",
       "  </thead>\n",
       "  <tbody>\n",
       "    <tr>\n",
       "      <th>66</th>\n",
       "      <td>0.009904</td>\n",
       "      <td>0.006333</td>\n",
       "      <td>0.010039</td>\n",
       "      <td>0.006107</td>\n",
       "      <td>0.000119</td>\n",
       "      <td>0.000095</td>\n",
       "      <td>0.001777</td>\n",
       "      <td>0.004166</td>\n",
       "      <td>0.000547</td>\n",
       "      <td>0.0</td>\n",
       "      <td>...</td>\n",
       "      <td>0.199090</td>\n",
       "      <td>0.338495</td>\n",
       "      <td>0.608831</td>\n",
       "      <td>0.687297</td>\n",
       "      <td>0.700713</td>\n",
       "      <td>0.919842</td>\n",
       "      <td>0.776481</td>\n",
       "      <td>0.580295</td>\n",
       "      <td>0.515759</td>\n",
       "      <td>0.442423</td>\n",
       "    </tr>\n",
       "    <tr>\n",
       "      <th>67</th>\n",
       "      <td>0.010455</td>\n",
       "      <td>0.004681</td>\n",
       "      <td>0.009481</td>\n",
       "      <td>0.004719</td>\n",
       "      <td>0.000057</td>\n",
       "      <td>0.000098</td>\n",
       "      <td>0.001820</td>\n",
       "      <td>0.004212</td>\n",
       "      <td>0.000586</td>\n",
       "      <td>0.0</td>\n",
       "      <td>...</td>\n",
       "      <td>0.199085</td>\n",
       "      <td>0.327429</td>\n",
       "      <td>0.610870</td>\n",
       "      <td>0.689399</td>\n",
       "      <td>0.702162</td>\n",
       "      <td>0.937505</td>\n",
       "      <td>0.877542</td>\n",
       "      <td>0.580279</td>\n",
       "      <td>0.515774</td>\n",
       "      <td>0.418237</td>\n",
       "    </tr>\n",
       "  </tbody>\n",
       "</table>\n",
       "<p>2 rows × 25 columns</p>\n",
       "</div>"
      ],
      "text/plain": [
       "        open      high       low     close       vol  vol_20d_MA      BB_1  \\\n",
       "66  0.009904  0.006333  0.010039  0.006107  0.000119    0.000095  0.001777   \n",
       "67  0.010455  0.004681  0.009481  0.004719  0.000057    0.000098  0.001820   \n",
       "\n",
       "        BB_2      BB_3  Ichimoku _1    ...          OBV       ADX    MACD_1  \\\n",
       "66  0.004166  0.000547          0.0    ...     0.199090  0.338495  0.608831   \n",
       "67  0.004212  0.000586          0.0    ...     0.199085  0.327429  0.610870   \n",
       "\n",
       "      MACD_2    MACD_3  Stoch_RSI_1  Stoch_RSI_2  Klinger_Oscillator_1  \\\n",
       "66  0.687297  0.700713     0.919842     0.776481              0.580295   \n",
       "67  0.689399  0.702162     0.937505     0.877542              0.580279   \n",
       "\n",
       "    Klinger_Oscillator_2       CMF  \n",
       "66              0.515759  0.442423  \n",
       "67              0.515774  0.418237  \n",
       "\n",
       "[2 rows x 25 columns]"
      ]
     },
     "execution_count": 62,
     "metadata": {},
     "output_type": "execute_result"
    }
   ],
   "source": [
    "X_train.head(2)"
   ]
  },
  {
   "cell_type": "markdown",
   "metadata": {},
   "source": [
    "## Keras Modeling"
   ]
  },
  {
   "cell_type": "code",
   "execution_count": 63,
   "metadata": {},
   "outputs": [],
   "source": [
    "from keras.layers import concatenate, LSTM, Flatten, Input, Dense, Conv2D, Flatten, Conv1D, GlobalAveragePooling1D, MaxPooling1D\n",
    "from keras.models import Model\n",
    "from keras.utils import plot_model, np_utils"
   ]
  },
  {
   "cell_type": "code",
   "execution_count": 64,
   "metadata": {
    "collapsed": true
   },
   "outputs": [],
   "source": [
    "#Global Setup\n",
    "time_period = len(X_train)"
   ]
  },
  {
   "cell_type": "code",
   "execution_count": 65,
   "metadata": {
    "collapsed": true
   },
   "outputs": [],
   "source": [
    "#Note: Output Shape is (Input Height - Filter Height + 1 (if strides=1))\n",
    "\n",
    "#Trend Indicators\n",
    "\n",
    "#MACD Setup\n",
    "macd_df = pd.concat([X_train['MACD_1'], X_train['MACD_2'], X_train['MACD_3']], axis=1)\n",
    "macd_outputs = len(macd_df.columns)\n",
    "#Ichimoku Setup\n",
    "ichimoku_df = pd.concat([X_train['Ichimoku _1'], X_train['Ichimoku_2'], X_train['Ichimoku_3'], X_train['Ichimoku_4'], X_train['Ichimoku_5']], axis=1)\n",
    "ichimoku_outputs = len(ichimoku_df.columns)\n",
    "#SAR Setup\n",
    "sar_df = pd.concat([X_train['SAR']], axis=1)\n",
    "sar_outputs = len(sar_df.columns)\n",
    "\n",
    "#MACD\n",
    "#Conv1D Shape [# Filters, Filter Height]\n",
    "visible_macd = Input(shape=(time_period,macd_outputs))\n",
    "conv_macd = Conv1D(100, 5, name='3MACD_Conv', activation='relu')(visible_macd)\n",
    "pool_macd = MaxPooling1D(3)(conv_macd)\n",
    "flat_macd = Flatten()(pool_macd)\n",
    "\n",
    "#Ichimoku\n",
    "#Conv1D Shape [# Filters, Filter Height]\n",
    "visible_ichimoku = Input(shape=(time_period,ichimoku_outputs))\n",
    "conv_ichimoku = Conv1D(100, 5, name='5Ichimoku_Conv', activation='relu')(visible_ichimoku)\n",
    "pool_ichimoku = MaxPooling1D(3)(conv_ichimoku)\n",
    "flat_ichimoku = Flatten()(pool_ichimoku)\n",
    "\n",
    "#SAR\n",
    "#Conv1D Shape [# Filters, Filter Height]\n",
    "visible_sar = Input(shape=(time_period,sar_outputs))\n",
    "pool_sar = MaxPooling1D(3)(visible_sar)\n",
    "flat_sar = Flatten()(pool_sar)\n",
    "\n",
    "#All Trend Indicators\n",
    "merge_trend = concatenate([flat_macd, flat_ichimoku, flat_sar])\n",
    "dense_trend = Dense(100, activation='relu')(merge_trend)"
   ]
  },
  {
   "cell_type": "code",
   "execution_count": 66,
   "metadata": {
    "collapsed": true
   },
   "outputs": [],
   "source": [
    "#Volatility Indicators\n",
    "\n",
    "#Bollinger Bands\n",
    "bollinger_df = pd.concat([X_train['BB_1'], X_train['BB_2'], X_train['BB_3']], axis=1)\n",
    "bollinger_outputs = len(bollinger_df.columns)\n",
    "\n",
    "#Conv1D Shape [# Filters, Filter Height]\n",
    "visible_bollinger = Input(shape=(time_period,bollinger_outputs))\n",
    "conv_bollinger = Conv1D(100, 5, name='3Bollinger_Conv', activation='relu')(visible_bollinger)\n",
    "pool_bollinger = MaxPooling1D(3)(conv_bollinger)\n",
    "flat_bollinger = Flatten()(pool_bollinger)\n",
    "\n",
    "#All Volatility Indicators\n",
    "# merge_volatility = concatenate([flat_bollinger])\n",
    "dense_volatility = Dense(100, activation='relu')(flat_bollinger)"
   ]
  },
  {
   "cell_type": "code",
   "execution_count": 67,
   "metadata": {
    "collapsed": true
   },
   "outputs": [],
   "source": [
    "#Momentum Indicators\n",
    "\n",
    "#stochRSI Setup\n",
    "stochRSI_df = pd.concat([X_train['Stoch_RSI_1'], X_train['Stoch_RSI_2']], axis=1)\n",
    "stochRSI_outputs = len(stochRSI_df.columns)\n",
    "#adx Setup\n",
    "adx_df = pd.concat([X_train['ADX']], axis=1)\n",
    "adx_outputs = len(adx_df.columns)\n",
    "\n",
    "#stochRSI\n",
    "#Conv1D Shape [# Filters, Filter Height]\n",
    "visible_stochRSI = Input(shape=(time_period,stochRSI_outputs))\n",
    "conv_stochRSI = Conv1D(100, 5, name='2StochRSI_Conv', activation='relu')(visible_stochRSI)\n",
    "pool_stochRSI = MaxPooling1D(3)(conv_stochRSI)\n",
    "flat_stochRSI = Flatten()(pool_stochRSI)\n",
    "\n",
    "#adx\n",
    "#Conv1D Shape [# Filters, Filter Height]\n",
    "visible_adx = Input(shape=(time_period,adx_outputs))\n",
    "pool_adx = MaxPooling1D(3)(visible_adx)\n",
    "flat_adx = Flatten()(pool_adx)\n",
    "\n",
    "#All Momentum Indicators\n",
    "merge_momentum = concatenate([flat_stochRSI, flat_adx])\n",
    "dense_momentum = Dense(100, activation='relu')(merge_momentum)"
   ]
  },
  {
   "cell_type": "code",
   "execution_count": 68,
   "metadata": {
    "collapsed": true
   },
   "outputs": [],
   "source": [
    "#Volume Indicators\n",
    "\n",
    "#KlingerVol Setup\n",
    "klingerVol_df = pd.concat([X_train['Klinger_Oscillator_1'], X_train['Klinger_Oscillator_2']], axis=1)\n",
    "klingerVol_outputs = len(klingerVol_df.columns)\n",
    "#OBV Setup\n",
    "obv_df = pd.concat([X_train['OBV']], axis=1)\n",
    "obv_outputs = len(obv_df.columns)\n",
    "#CMF Setup\n",
    "cmf_df = pd.concat([X_train['CMF']], axis=1)\n",
    "cmf_outputs = len(cmf_df.columns)\n",
    "\n",
    "#KlingerVol\n",
    "#Conv1D Shape [# Filters, Filter Height]\n",
    "visible_klingerVol = Input(shape=(time_period,klingerVol_outputs))\n",
    "conv_klingerVol = Conv1D(100, 5, name='2KlingerVol_Conv', activation='relu')(visible_klingerVol)\n",
    "pool_klingerVol = MaxPooling1D(3)(conv_klingerVol)\n",
    "flat_klingerVol = Flatten()(pool_klingerVol)\n",
    "\n",
    "#OBV\n",
    "#Conv1D Shape [# Filters, Filter Height]\n",
    "visible_obv = Input(shape=(time_period,obv_outputs))\n",
    "pool_obv = MaxPooling1D(3)(visible_obv)\n",
    "flat_obv = Flatten()(pool_obv)\n",
    "\n",
    "#CMF\n",
    "#Conv1D Shape [# Filters, Filter Height]\n",
    "visible_cmf = Input(shape=(time_period,cmf_outputs))\n",
    "pool_cmf = MaxPooling1D(3)(visible_cmf)\n",
    "flat_cmf = Flatten()(pool_cmf)\n",
    "\n",
    "#All Volume Indicators\n",
    "merge_volume = concatenate([flat_klingerVol, flat_obv, flat_cmf])\n",
    "dense_volume = Dense(100, activation='relu')(merge_volume)"
   ]
  },
  {
   "cell_type": "code",
   "execution_count": 69,
   "metadata": {
    "scrolled": true
   },
   "outputs": [
    {
     "name": "stdout",
     "output_type": "stream",
     "text": [
      "__________________________________________________________________________________________________\n",
      "Layer (type)                    Output Shape         Param #     Connected to                     \n",
      "==================================================================================================\n",
      "input_10 (InputLayer)           (None, 4564, 3)      0                                            \n",
      "__________________________________________________________________________________________________\n",
      "input_11 (InputLayer)           (None, 4564, 5)      0                                            \n",
      "__________________________________________________________________________________________________\n",
      "input_14 (InputLayer)           (None, 4564, 2)      0                                            \n",
      "__________________________________________________________________________________________________\n",
      "input_16 (InputLayer)           (None, 4564, 2)      0                                            \n",
      "__________________________________________________________________________________________________\n",
      "3MACD_Conv (Conv1D)             (None, 4560, 100)    1600        input_10[0][0]                   \n",
      "__________________________________________________________________________________________________\n",
      "5Ichimoku_Conv (Conv1D)         (None, 4560, 100)    2600        input_11[0][0]                   \n",
      "__________________________________________________________________________________________________\n",
      "input_12 (InputLayer)           (None, 4564, 1)      0                                            \n",
      "__________________________________________________________________________________________________\n",
      "input_13 (InputLayer)           (None, 4564, 3)      0                                            \n",
      "__________________________________________________________________________________________________\n",
      "2StochRSI_Conv (Conv1D)         (None, 4560, 100)    1100        input_14[0][0]                   \n",
      "__________________________________________________________________________________________________\n",
      "input_15 (InputLayer)           (None, 4564, 1)      0                                            \n",
      "__________________________________________________________________________________________________\n",
      "2KlingerVol_Conv (Conv1D)       (None, 4560, 100)    1100        input_16[0][0]                   \n",
      "__________________________________________________________________________________________________\n",
      "input_17 (InputLayer)           (None, 4564, 1)      0                                            \n",
      "__________________________________________________________________________________________________\n",
      "input_18 (InputLayer)           (None, 4564, 1)      0                                            \n",
      "__________________________________________________________________________________________________\n",
      "max_pooling1d_10 (MaxPooling1D) (None, 1520, 100)    0           3MACD_Conv[0][0]                 \n",
      "__________________________________________________________________________________________________\n",
      "max_pooling1d_11 (MaxPooling1D) (None, 1520, 100)    0           5Ichimoku_Conv[0][0]             \n",
      "__________________________________________________________________________________________________\n",
      "max_pooling1d_12 (MaxPooling1D) (None, 1521, 1)      0           input_12[0][0]                   \n",
      "__________________________________________________________________________________________________\n",
      "3Bollinger_Conv (Conv1D)        (None, 4560, 100)    1600        input_13[0][0]                   \n",
      "__________________________________________________________________________________________________\n",
      "max_pooling1d_14 (MaxPooling1D) (None, 1520, 100)    0           2StochRSI_Conv[0][0]             \n",
      "__________________________________________________________________________________________________\n",
      "max_pooling1d_15 (MaxPooling1D) (None, 1521, 1)      0           input_15[0][0]                   \n",
      "__________________________________________________________________________________________________\n",
      "max_pooling1d_16 (MaxPooling1D) (None, 1520, 100)    0           2KlingerVol_Conv[0][0]           \n",
      "__________________________________________________________________________________________________\n",
      "max_pooling1d_17 (MaxPooling1D) (None, 1521, 1)      0           input_17[0][0]                   \n",
      "__________________________________________________________________________________________________\n",
      "max_pooling1d_18 (MaxPooling1D) (None, 1521, 1)      0           input_18[0][0]                   \n",
      "__________________________________________________________________________________________________\n",
      "flatten_10 (Flatten)            (None, 152000)       0           max_pooling1d_10[0][0]           \n",
      "__________________________________________________________________________________________________\n",
      "flatten_11 (Flatten)            (None, 152000)       0           max_pooling1d_11[0][0]           \n",
      "__________________________________________________________________________________________________\n",
      "flatten_12 (Flatten)            (None, 1521)         0           max_pooling1d_12[0][0]           \n",
      "__________________________________________________________________________________________________\n",
      "max_pooling1d_13 (MaxPooling1D) (None, 1520, 100)    0           3Bollinger_Conv[0][0]            \n",
      "__________________________________________________________________________________________________\n",
      "flatten_14 (Flatten)            (None, 152000)       0           max_pooling1d_14[0][0]           \n",
      "__________________________________________________________________________________________________\n",
      "flatten_15 (Flatten)            (None, 1521)         0           max_pooling1d_15[0][0]           \n",
      "__________________________________________________________________________________________________\n",
      "flatten_16 (Flatten)            (None, 152000)       0           max_pooling1d_16[0][0]           \n",
      "__________________________________________________________________________________________________\n",
      "flatten_17 (Flatten)            (None, 1521)         0           max_pooling1d_17[0][0]           \n",
      "__________________________________________________________________________________________________\n",
      "flatten_18 (Flatten)            (None, 1521)         0           max_pooling1d_18[0][0]           \n",
      "__________________________________________________________________________________________________\n",
      "concatenate_5 (Concatenate)     (None, 305521)       0           flatten_10[0][0]                 \n",
      "                                                                 flatten_11[0][0]                 \n",
      "                                                                 flatten_12[0][0]                 \n",
      "__________________________________________________________________________________________________\n",
      "flatten_13 (Flatten)            (None, 152000)       0           max_pooling1d_13[0][0]           \n",
      "__________________________________________________________________________________________________\n",
      "concatenate_6 (Concatenate)     (None, 153521)       0           flatten_14[0][0]                 \n",
      "                                                                 flatten_15[0][0]                 \n",
      "__________________________________________________________________________________________________\n",
      "concatenate_7 (Concatenate)     (None, 155042)       0           flatten_16[0][0]                 \n",
      "                                                                 flatten_17[0][0]                 \n",
      "                                                                 flatten_18[0][0]                 \n",
      "__________________________________________________________________________________________________\n",
      "dense_6 (Dense)                 (None, 100)          30552200    concatenate_5[0][0]              \n",
      "__________________________________________________________________________________________________\n",
      "dense_7 (Dense)                 (None, 100)          15200100    flatten_13[0][0]                 \n",
      "__________________________________________________________________________________________________\n",
      "dense_8 (Dense)                 (None, 100)          15352200    concatenate_6[0][0]              \n",
      "__________________________________________________________________________________________________\n",
      "dense_9 (Dense)                 (None, 100)          15504300    concatenate_7[0][0]              \n",
      "__________________________________________________________________________________________________\n",
      "concatenate_8 (Concatenate)     (None, 400)          0           dense_6[0][0]                    \n",
      "                                                                 dense_7[0][0]                    \n",
      "                                                                 dense_8[0][0]                    \n",
      "                                                                 dense_9[0][0]                    \n",
      "__________________________________________________________________________________________________\n",
      "dense_10 (Dense)                (None, 1)            401         concatenate_8[0][0]              \n",
      "==================================================================================================\n",
      "Total params: 76,617,201\n",
      "Trainable params: 76,617,201\n",
      "Non-trainable params: 0\n",
      "__________________________________________________________________________________________________\n",
      "None\n"
     ]
    }
   ],
   "source": [
    "#All Indicators\n",
    "merge_all = concatenate([dense_trend, dense_volatility, dense_momentum, dense_volume])\n",
    "#Final Output\n",
    "output = Dense(1, activation='relu')(merge_all)\n",
    "#Create Model\n",
    "visibles_list = [visible_macd, visible_ichimoku, visible_sar, visible_bollinger, visible_stochRSI, visible_adx, visible_klingerVol, visible_obv, visible_cmf]\n",
    "model = Model(inputs=visibles_list, outputs=output)\n",
    "#Print Model Text Summary\n",
    "print(model.summary())\n",
    "#Save Model Graph\n",
    "plot_model(model, to_file='./model.png', show_shapes=True)"
   ]
  },
  {
   "cell_type": "code",
   "execution_count": 70,
   "metadata": {},
   "outputs": [],
   "source": [
    "X_input_list = [macd_df.values, ichimoku_df.values, sar_df.values, bollinger_df.values, stochRSI_df.values, adx_df.values, klingerVol_df.values, obv_df.values, cmf_df.values]\n",
    "\n",
    "for i in range(len(X_input_list)):\n",
    "    array = X_input_list[i]\n",
    "    X_input_list[i] = array.reshape([-1,time_period,array.shape[1]])"
   ]
  },
  {
   "cell_type": "code",
   "execution_count": 76,
   "metadata": {},
   "outputs": [
    {
     "ename": "ValueError",
     "evalue": "Input arrays should have the same number of samples as target arrays. Found 1 input samples and 4564 target samples.",
     "output_type": "error",
     "traceback": [
      "\u001b[0;31m---------------------------------------------------------------------------\u001b[0m",
      "\u001b[0;31mValueError\u001b[0m                                Traceback (most recent call last)",
      "\u001b[0;32m<ipython-input-76-8bd36b0677b1>\u001b[0m in \u001b[0;36m<module>\u001b[0;34m()\u001b[0m\n\u001b[1;32m      5\u001b[0m \u001b[0mmodel\u001b[0m\u001b[0;34m.\u001b[0m\u001b[0mcompile\u001b[0m\u001b[0;34m(\u001b[0m\u001b[0mloss\u001b[0m\u001b[0;34m=\u001b[0m\u001b[0;34m'mean_squared_error'\u001b[0m\u001b[0;34m,\u001b[0m \u001b[0moptimizer\u001b[0m\u001b[0;34m=\u001b[0m\u001b[0;34m'adam'\u001b[0m\u001b[0;34m)\u001b[0m\u001b[0;34m\u001b[0m\u001b[0m\n\u001b[1;32m      6\u001b[0m \u001b[0;34m\u001b[0m\u001b[0m\n\u001b[0;32m----> 7\u001b[0;31m \u001b[0mmodel\u001b[0m\u001b[0;34m.\u001b[0m\u001b[0mfit\u001b[0m\u001b[0;34m(\u001b[0m\u001b[0mx\u001b[0m\u001b[0;34m=\u001b[0m\u001b[0mX_input_list\u001b[0m\u001b[0;34m,\u001b[0m \u001b[0my\u001b[0m\u001b[0;34m=\u001b[0m\u001b[0my_train\u001b[0m\u001b[0;34m,\u001b[0m \u001b[0mepochs\u001b[0m\u001b[0;34m=\u001b[0m\u001b[0;36m100\u001b[0m\u001b[0;34m,\u001b[0m \u001b[0mbatch_size\u001b[0m\u001b[0;34m=\u001b[0m\u001b[0;36m1\u001b[0m\u001b[0;34m,\u001b[0m \u001b[0mverbose\u001b[0m\u001b[0;34m=\u001b[0m\u001b[0;36m2\u001b[0m\u001b[0;34m)\u001b[0m\u001b[0;34m\u001b[0m\u001b[0m\n\u001b[0m",
      "\u001b[0;32m~/anaconda3/envs/tfdeeplearning/lib/python3.5/site-packages/keras/engine/training.py\u001b[0m in \u001b[0;36mfit\u001b[0;34m(self, x, y, batch_size, epochs, verbose, callbacks, validation_split, validation_data, shuffle, class_weight, sample_weight, initial_epoch, steps_per_epoch, validation_steps, **kwargs)\u001b[0m\n\u001b[1;32m   1579\u001b[0m             \u001b[0mclass_weight\u001b[0m\u001b[0;34m=\u001b[0m\u001b[0mclass_weight\u001b[0m\u001b[0;34m,\u001b[0m\u001b[0;34m\u001b[0m\u001b[0m\n\u001b[1;32m   1580\u001b[0m             \u001b[0mcheck_batch_axis\u001b[0m\u001b[0;34m=\u001b[0m\u001b[0;32mFalse\u001b[0m\u001b[0;34m,\u001b[0m\u001b[0;34m\u001b[0m\u001b[0m\n\u001b[0;32m-> 1581\u001b[0;31m             batch_size=batch_size)\n\u001b[0m\u001b[1;32m   1582\u001b[0m         \u001b[0;31m# Prepare validation data.\u001b[0m\u001b[0;34m\u001b[0m\u001b[0;34m\u001b[0m\u001b[0m\n\u001b[1;32m   1583\u001b[0m         \u001b[0mdo_validation\u001b[0m \u001b[0;34m=\u001b[0m \u001b[0;32mFalse\u001b[0m\u001b[0;34m\u001b[0m\u001b[0m\n",
      "\u001b[0;32m~/anaconda3/envs/tfdeeplearning/lib/python3.5/site-packages/keras/engine/training.py\u001b[0m in \u001b[0;36m_standardize_user_data\u001b[0;34m(self, x, y, sample_weight, class_weight, check_batch_axis, batch_size)\u001b[0m\n\u001b[1;32m   1424\u001b[0m                           \u001b[0;32mfor\u001b[0m \u001b[0;34m(\u001b[0m\u001b[0mref\u001b[0m\u001b[0;34m,\u001b[0m \u001b[0msw\u001b[0m\u001b[0;34m,\u001b[0m \u001b[0mcw\u001b[0m\u001b[0;34m,\u001b[0m \u001b[0mmode\u001b[0m\u001b[0;34m)\u001b[0m\u001b[0;34m\u001b[0m\u001b[0m\n\u001b[1;32m   1425\u001b[0m                           in zip(y, sample_weights, class_weights, self._feed_sample_weight_modes)]\n\u001b[0;32m-> 1426\u001b[0;31m         \u001b[0m_check_array_lengths\u001b[0m\u001b[0;34m(\u001b[0m\u001b[0mx\u001b[0m\u001b[0;34m,\u001b[0m \u001b[0my\u001b[0m\u001b[0;34m,\u001b[0m \u001b[0msample_weights\u001b[0m\u001b[0;34m)\u001b[0m\u001b[0;34m\u001b[0m\u001b[0m\n\u001b[0m\u001b[1;32m   1427\u001b[0m         _check_loss_and_target_compatibility(y,\n\u001b[1;32m   1428\u001b[0m                                              \u001b[0mself\u001b[0m\u001b[0;34m.\u001b[0m\u001b[0m_feed_loss_fns\u001b[0m\u001b[0;34m,\u001b[0m\u001b[0;34m\u001b[0m\u001b[0m\n",
      "\u001b[0;32m~/anaconda3/envs/tfdeeplearning/lib/python3.5/site-packages/keras/engine/training.py\u001b[0m in \u001b[0;36m_check_array_lengths\u001b[0;34m(inputs, targets, weights)\u001b[0m\n\u001b[1;32m    248\u001b[0m                          \u001b[0;34m'the same number of samples as target arrays. '\u001b[0m\u001b[0;34m\u001b[0m\u001b[0m\n\u001b[1;32m    249\u001b[0m                          \u001b[0;34m'Found '\u001b[0m \u001b[0;34m+\u001b[0m \u001b[0mstr\u001b[0m\u001b[0;34m(\u001b[0m\u001b[0mlist\u001b[0m\u001b[0;34m(\u001b[0m\u001b[0mset_x\u001b[0m\u001b[0;34m)\u001b[0m\u001b[0;34m[\u001b[0m\u001b[0;36m0\u001b[0m\u001b[0;34m]\u001b[0m\u001b[0;34m)\u001b[0m \u001b[0;34m+\u001b[0m \u001b[0;34m' input samples '\u001b[0m\u001b[0;34m\u001b[0m\u001b[0m\n\u001b[0;32m--> 250\u001b[0;31m                          'and ' + str(list(set_y)[0]) + ' target samples.')\n\u001b[0m\u001b[1;32m    251\u001b[0m     \u001b[0;32mif\u001b[0m \u001b[0mlen\u001b[0m\u001b[0;34m(\u001b[0m\u001b[0mset_w\u001b[0m\u001b[0;34m)\u001b[0m \u001b[0;34m>\u001b[0m \u001b[0;36m1\u001b[0m\u001b[0;34m:\u001b[0m\u001b[0;34m\u001b[0m\u001b[0m\n\u001b[1;32m    252\u001b[0m         raise ValueError('All sample_weight arrays should have '\n",
      "\u001b[0;31mValueError\u001b[0m: Input arrays should have the same number of samples as target arrays. Found 1 input samples and 4564 target samples."
     ]
    }
   ],
   "source": [
    "from sklearn.metrics import mean_squared_error\n",
    "from keras.losses import sparse_categorical_crossentropy\n",
    "\n",
    "#Model Creation & Usage\n",
    "model.compile(loss='mean_squared_error', optimizer='adam')\n",
    "\n",
    "model.fit(x=X_input_list, y=y_train, epochs=100, batch_size=1, verbose=2)"
   ]
  },
  {
   "cell_type": "markdown",
   "metadata": {},
   "source": [
    "# We Did It?"
   ]
  }
 ],
 "metadata": {
  "kernelspec": {
   "display_name": "Python [conda env:tfdeeplearning]",
   "language": "python",
   "name": "conda-env-tfdeeplearning-py"
  },
  "language_info": {
   "codemirror_mode": {
    "name": "ipython",
    "version": 3
   },
   "file_extension": ".py",
   "mimetype": "text/x-python",
   "name": "python",
   "nbconvert_exporter": "python",
   "pygments_lexer": "ipython3",
   "version": "3.5.4"
  }
 },
 "nbformat": 4,
 "nbformat_minor": 2
}
